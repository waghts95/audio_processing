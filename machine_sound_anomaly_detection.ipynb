{
 "cells": [
  {
   "cell_type": "markdown",
   "id": "e45fd3fd",
   "metadata": {},
   "source": [
    "# Unsupervised Machine Sound Anomaly Detection"
   ]
  },
  {
   "cell_type": "markdown",
   "id": "413ad180",
   "metadata": {},
   "source": [
    "We are using IsolationForest algorithm"
   ]
  },
  {
   "cell_type": "code",
   "execution_count": null,
   "id": "4c33bb7f",
   "metadata": {},
   "outputs": [],
   "source": [
    "# We’ll pull a small subset (≈15 normal + 10 anomaly WAV files) from the larger dataset for quick experimentation.\n",
    "\n",
    "import os, zipfile, requests\n",
    "from tqdm import tqdm\n",
    "\n",
    "url = \"https://huggingface.co/datasets/ejlok1/toyadmos-mini/resolve/main/toyadmos_mini.zip\"\n",
    "dataset_path = \"../datasets/audio/toyadmos_mini.zip\"\n",
    "subset_path = \"../datasets/audio/toyadmos_subset\"\n",
    "\n",
    "# Download only if missing\n",
    "if not os.path.exists(\"toyadmos_mini\"):\n",
    "    print(\"📥 Downloading ToyADMOS-mini (~90 MB)...\")\n",
    "    r = requests.get(url, stream=True)\n",
    "    with open(dataset_path, \"wb\") as f:\n",
    "        for chunk in tqdm(r.iter_content(chunk_size=1024*1024)):\n",
    "            if chunk:\n",
    "                f.write(chunk)\n",
    "    print(\"Extracting...\")\n",
    "    with zipfile.ZipFile(dataset_path, \"r\") as z:\n",
    "        z.extractall(\".\")\n",
    "    print(\"✅ Dataset extracted.\")\n",
    "\n",
    "# Create subset folder\n",
    "os.makedirs(f\"{subset_path}/normal\", exist_ok=True)\n",
    "os.makedirs(f\"{subset_path}/anomaly\", exist_ok=True)\n",
    "\n",
    "import shutil\n",
    "from glob import glob\n",
    "\n",
    "# Copy only a few normal/anomaly files into subset\n",
    "normal_files = sorted(glob(\"toyadmos_mini/normal/*.wav\"))[:15]\n",
    "anomaly_files = sorted(glob(\"toyadmos_mini/anomaly/*.wav\"))[:10]\n",
    "\n",
    "for f in normal_files:\n",
    "    shutil.copy(f, f\"{subset_path}/normal/\")\n",
    "for f in anomaly_files:\n",
    "    shutil.copy(f, f\"{subset_path}/anomaly/\")\n",
    "\n",
    "print(f\"✅ Subset ready: {len(normal_files)} normal, {len(anomaly_files)} anomaly files.\")\n"
   ]
  },
  {
   "cell_type": "markdown",
   "id": "69ac4449",
   "metadata": {},
   "source": [
    "📂 Folder structure after:\n",
    "\n",
    "toyadmos_subset/<br>\n",
    " ├── normal/   (≈15 files)<br>\n",
    " └── anomaly/  (≈10 files)<br>\n"
   ]
  },
  {
   "cell_type": "markdown",
   "id": "3532a43a",
   "metadata": {},
   "source": [
    "Import Libraries"
   ]
  },
  {
   "cell_type": "code",
   "execution_count": null,
   "id": "f2e83b59",
   "metadata": {},
   "outputs": [],
   "source": [
    "import librosa\n",
    "import numpy as np\n",
    "import os\n",
    "from tqdm import tqdm\n",
    "from sklearn.preprocessing import StandardScaler\n",
    "from sklearn.ensemble import IsolationForest\n",
    "import matplotlib.pyplot as plt\n",
    "import seaborn as sns\n",
    "import warnings\n",
    "warnings.filterwarnings(\"ignore\")\n"
   ]
  },
  {
   "cell_type": "markdown",
   "id": "ae361675",
   "metadata": {},
   "source": [
    "Feature Extraction Function"
   ]
  },
  {
   "cell_type": "code",
   "execution_count": null,
   "id": "c113f098",
   "metadata": {},
   "outputs": [],
   "source": [
    "# We’ll use multiple audio features techniques that describe different acoustic properties.\n",
    "\n",
    "def extract_features(file_path):\n",
    "    y, sr = librosa.load(file_path, duration=3, offset=0.5)\n",
    "    mfcc = np.mean(librosa.feature.mfcc(y=y, sr=sr, n_mfcc=13).T, axis=0)\n",
    "    centroid = np.mean(librosa.feature.spectral_centroid(y=y, sr=sr))\n",
    "    bandwidth = np.mean(librosa.feature.spectral_bandwidth(y=y, sr=sr))\n",
    "    contrast = np.mean(librosa.feature.spectral_contrast(y=y, sr=sr))\n",
    "    zcr = np.mean(librosa.feature.zero_crossing_rate(y))\n",
    "    return np.hstack([mfcc, centroid, bandwidth, contrast, zcr])"
   ]
  },
  {
   "cell_type": "markdown",
   "id": "f27f9e65",
   "metadata": {},
   "source": [
    "Load Normal Data (Training)"
   ]
  },
  {
   "cell_type": "code",
   "execution_count": null,
   "id": "9afa5b92",
   "metadata": {},
   "outputs": [],
   "source": [
    "TRAIN_PATH = \"toyadmos_subset/normal\"\n",
    "X_train = []\n",
    "\n",
    "for file in tqdm(os.listdir(TRAIN_PATH), desc=\"Loading normal sounds\"):\n",
    "    if file.endswith(\".wav\"):\n",
    "        path = os.path.join(TRAIN_PATH, file)\n",
    "        X_train.append(extract_features(path))\n",
    "\n",
    "X_train = np.array(X_train)\n",
    "print(\"✅ Normal training samples:\", X_train.shape)\n"
   ]
  },
  {
   "cell_type": "markdown",
   "id": "302da43c",
   "metadata": {},
   "source": [
    "Data preprocessing"
   ]
  },
  {
   "cell_type": "markdown",
   "id": "9fb12dea",
   "metadata": {},
   "source": [
    "Scaling"
   ]
  },
  {
   "cell_type": "code",
   "execution_count": null,
   "id": "c2f93a5a",
   "metadata": {},
   "outputs": [],
   "source": [
    "scaler = StandardScaler()\n",
    "X_train_scaled = scaler.fit_transform(X_train)"
   ]
  },
  {
   "cell_type": "markdown",
   "id": "8ccd3912",
   "metadata": {},
   "source": [
    "Train IsolationForest"
   ]
  },
  {
   "cell_type": "code",
   "execution_count": null,
   "id": "d6ef7083",
   "metadata": {},
   "outputs": [],
   "source": [
    "model = IsolationForest(contamination=0.1, random_state=42)\n",
    "model.fit(X_train_scaled)\n",
    "\n",
    "print(\"✅ IsolationForest model trained on normal data.\")"
   ]
  },
  {
   "cell_type": "markdown",
   "id": "c530b603",
   "metadata": {},
   "source": [
    "Test on Normal + Anomaly data"
   ]
  },
  {
   "cell_type": "code",
   "execution_count": null,
   "id": "939b2ced",
   "metadata": {},
   "outputs": [],
   "source": [
    "TEST_PATHS = {\n",
    "    \"normal\": \"toyadmos_subset/normal\",\n",
    "    \"anomaly\": \"toyadmos_subset/anomaly\"\n",
    "}\n",
    "\n",
    "results = []\n",
    "\n",
    "for label, folder in TEST_PATHS.items():\n",
    "    for file in os.listdir(folder):\n",
    "        if file.endswith(\".wav\"):\n",
    "            path = os.path.join(folder, file)\n",
    "            feat = extract_features(path)\n",
    "            feat_scaled = scaler.transform([feat])\n",
    "            pred = model.predict(feat_scaled)\n",
    "            results.append({\n",
    "                \"file\": file,\n",
    "                \"true_label\": label,\n",
    "                \"pred_label\": \"anomaly\" if pred[0] == -1 else \"normal\"\n",
    "            })\n"
   ]
  },
  {
   "cell_type": "markdown",
   "id": "ffb26ab8",
   "metadata": {},
   "source": [
    "Evaluate Performance"
   ]
  },
  {
   "cell_type": "code",
   "execution_count": null,
   "id": "cb9e63d2",
   "metadata": {},
   "outputs": [],
   "source": [
    "import pandas as pd\n",
    "from sklearn.metrics import confusion_matrix\n",
    "\n",
    "df = pd.DataFrame(results)\n",
    "acc = (df[\"true_label\"] == df[\"pred_label\"]).mean()\n",
    "\n",
    "print(df.head())\n",
    "print(f\"\\n✅ Detection Accuracy: {acc*100:.2f}%\")\n",
    "\n",
    "cm = confusion_matrix(df[\"true_label\"], df[\"pred_label\"], labels=[\"normal\", \"anomaly\"])\n",
    "sns.heatmap(cm, annot=True, fmt='d', cmap='Blues',\n",
    "            xticklabels=[\"Pred Normal\",\"Pred Anomaly\"],\n",
    "            yticklabels=[\"True Normal\",\"True Anomaly\"])\n",
    "plt.title(\"IsolationForest Anomaly Detection (Subset)\")\n",
    "plt.show()"
   ]
  },
  {
   "cell_type": "markdown",
   "id": "8e7b7c7b",
   "metadata": {},
   "source": [
    "Test a Single Audio File"
   ]
  },
  {
   "cell_type": "code",
   "execution_count": null,
   "id": "4f5425b3",
   "metadata": {},
   "outputs": [],
   "source": [
    "def predict_sound(file_path):\n",
    "    feat = extract_features(file_path)\n",
    "    feat_scaled = scaler.transform([feat])\n",
    "    pred = model.predict(feat_scaled)\n",
    "    return \"⚠️ Anomalous\" if pred[0] == -1 else \"✅ Normal\"\n",
    "\n",
    "test_file = \"toyadmos_subset/anomaly/sample_00010.wav\"\n",
    "print(\"🎯 Prediction:\", predict_sound(test_file))\n"
   ]
  }
 ],
 "metadata": {
  "kernelspec": {
   "display_name": "audio-processing",
   "language": "python",
   "name": "python3"
  },
  "language_info": {
   "codemirror_mode": {
    "name": "ipython",
    "version": 3
   },
   "file_extension": ".py",
   "mimetype": "text/x-python",
   "name": "python",
   "nbconvert_exporter": "python",
   "pygments_lexer": "ipython3",
   "version": "3.12.3"
  }
 },
 "nbformat": 4,
 "nbformat_minor": 5
}
