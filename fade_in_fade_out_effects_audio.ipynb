{
 "cells": [
  {
   "cell_type": "markdown",
   "id": "52e09500",
   "metadata": {},
   "source": [
    "FADE EFFECTS: Make your audio start and end smoothly!"
   ]
  },
  {
   "cell_type": "markdown",
   "id": "69973962",
   "metadata": {},
   "source": [
    "🎬 Fade IN:\n",
    "- Audio starts from silence (0) and gradually increases to full volume (1)<br>\n",
    "- Creates smooth, professional beginning<br>\n",
    "- No sudden jarring start<br>\n",
    "\n",
    "🎬 Fade OUT:\n",
    "- Audio gradually decreases from full volume (1) to silence (0)<br>\n",
    "- Creates smooth, professional ending<br>\n",
    "- No abrupt cutoff<br>\n",
    "\n",
    "HOW IT WORKS:\n",
    "- np.linspace(0, 1, samples) creates gradual increase: [0, 0.25, 0.5, 0.75, 1]<br>\n",
    "- Multiply audio by this curve to gradually change volume<br>\n",
    "- Linear fade (straight line) - simple and effective<br>\n",
    "\n",
    "WHEN TO USE:\n",
    "- Fade in: Song intros, podcast starts, video begins<br>\n",
    "- Fade out: Song outros, smooth endings<br>\n",
    "- Both: Professional audio production<br>\n",
    "- Short fades (0.5s): Avoid clicks/pops when cutting audio<br>\n",
    "\n",
    "Try changing fade_duration:\n",
    "- Longer (3-5 seconds): Slow, dramatic fades<br>\n",
    "- Shorter (0.2-0.5 seconds): Quick, subtle transitions<br>\n"
   ]
  },
  {
   "cell_type": "code",
   "execution_count": 1,
   "id": "0a3c88c8",
   "metadata": {},
   "outputs": [],
   "source": [
    "import librosa\n",
    "import soundfile as sf\n",
    "import numpy as np\n",
    "import os"
   ]
  },
  {
   "cell_type": "code",
   "execution_count": 2,
   "id": "97f27da2",
   "metadata": {},
   "outputs": [
    {
     "name": "stdout",
     "output_type": "stream",
     "text": [
      "Audio loaded successfully!\n",
      "Sample Rate: 22050 Hz\n",
      "Duration: 11.19 seconds\n"
     ]
    }
   ],
   "source": [
    "# Read an audio file\n",
    "audio_file = \"data/476707__sergequadrado__fairy-logo.wav\"  # Change this to your file name\n",
    "\n",
    "# Load the audio\n",
    "# data from librosa.load() is typically normalized by default to the range [-1, 1]\n",
    "audio_data, sample_rate = librosa.load(audio_file)\n",
    "\n",
    "print(\"Audio loaded successfully!\")\n",
    "print(f\"Sample Rate: {sample_rate} Hz\")  # Sample rate is the number of audio samples captured per second, measured in Hertz (Hz).\n",
    "print(f\"Duration: {len(audio_data) / sample_rate:.2f} seconds\")"
   ]
  },
  {
   "cell_type": "code",
   "execution_count": 3,
   "id": "32510266",
   "metadata": {},
   "outputs": [
    {
     "name": "stdout",
     "output_type": "stream",
     "text": [
      "Output folder created/verified: output\n",
      "\n"
     ]
    }
   ],
   "source": [
    "# Create output folder if it doesn't exist\n",
    "output_dir = \"output\"\n",
    "os.makedirs(output_dir, exist_ok=True)\n",
    "print(f\"Output folder created/verified: {output_dir}\\n\")"
   ]
  },
  {
   "cell_type": "markdown",
   "id": "17db2f2b",
   "metadata": {},
   "source": [
    "FADE IN EFFECT"
   ]
  },
  {
   "cell_type": "code",
   "execution_count": 4,
   "id": "d7bd4b06",
   "metadata": {},
   "outputs": [
    {
     "name": "stdout",
     "output_type": "stream",
     "text": [
      "✓ Fade IN applied: 2.0 seconds\n",
      "  (Audio gradually increases from silence)\n"
     ]
    }
   ],
   "source": [
    "fade_duration = 2.0  # Fade for 2 seconds\n",
    "\n",
    "# Calculate how many samples for fade duration\n",
    "fade_samples = int(fade_duration * sample_rate)\n",
    "\n",
    "# Create a copy of audio for fade in\n",
    "audio_fade_in = audio_data.copy()\n",
    "\n",
    "# Create fade in curve (goes from 0 to 1)\n",
    "fade_in_curve = np.linspace(0, 1, fade_samples)\n",
    "\n",
    "# Apply fade in to the beginning\n",
    "audio_fade_in[:fade_samples] = audio_fade_in[:fade_samples] * fade_in_curve\n",
    "\n",
    "print(f\"✓ Fade IN applied: {fade_duration} seconds\")\n",
    "print(f\"  (Audio gradually increases from silence)\")\n"
   ]
  },
  {
   "cell_type": "markdown",
   "id": "08ce81b5",
   "metadata": {},
   "source": [
    "FADE OUT EFFECT"
   ]
  },
  {
   "cell_type": "code",
   "execution_count": 5,
   "id": "42c131d9",
   "metadata": {},
   "outputs": [
    {
     "name": "stdout",
     "output_type": "stream",
     "text": [
      "\n",
      "✓ Fade OUT applied: 2.0 seconds\n",
      "  (Audio gradually decreases to silence)\n"
     ]
    }
   ],
   "source": [
    "# Create a copy of audio for fade out\n",
    "audio_fade_out = audio_data.copy()\n",
    "\n",
    "# Create fade out curve (goes from 1 to 0)\n",
    "fade_out_curve = np.linspace(1, 0, fade_samples)\n",
    "\n",
    "# Apply fade out to the end\n",
    "audio_fade_out[-fade_samples:] = audio_fade_out[-fade_samples:] * fade_out_curve\n",
    "\n",
    "print(f\"\\n✓ Fade OUT applied: {fade_duration} seconds\")\n",
    "print(f\"  (Audio gradually decreases to silence)\")\n"
   ]
  },
  {
   "cell_type": "markdown",
   "id": "650a75ed",
   "metadata": {},
   "source": [
    "SAVE ALL VERSIONS"
   ]
  },
  {
   "cell_type": "code",
   "execution_count": 6,
   "id": "979a7940",
   "metadata": {},
   "outputs": [
    {
     "name": "stdout",
     "output_type": "stream",
     "text": [
      "\n",
      "📁 Saved: output/fade_in.wav\n",
      "📁 Saved: output/fade_out.wav\n"
     ]
    }
   ],
   "source": [
    "sf.write(os.path.join(output_dir, 'fade_in.wav'), audio_fade_in, sample_rate)\n",
    "print(f\"\\n📁 Saved: {os.path.join(output_dir, 'fade_in.wav')}\")\n",
    "\n",
    "sf.write(os.path.join(output_dir, 'fade_out.wav'), audio_fade_out, sample_rate)\n",
    "print(f\"📁 Saved: {os.path.join(output_dir, 'fade_out.wav')}\")\n"
   ]
  }
 ],
 "metadata": {
  "kernelspec": {
   "display_name": "audio-processing",
   "language": "python",
   "name": "python3"
  },
  "language_info": {
   "codemirror_mode": {
    "name": "ipython",
    "version": 3
   },
   "file_extension": ".py",
   "mimetype": "text/x-python",
   "name": "python",
   "nbconvert_exporter": "python",
   "pygments_lexer": "ipython3",
   "version": "3.12.3"
  }
 },
 "nbformat": 4,
 "nbformat_minor": 5
}
