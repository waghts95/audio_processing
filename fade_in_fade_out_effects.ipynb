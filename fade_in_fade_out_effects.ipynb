{
 "cells": [
  {
   "cell_type": "markdown",
   "id": "69973962",
   "metadata": {},
   "source": [
    "🎬 Fade IN:\n",
    "- Audio starts from silence (0) and gradually increases to full volume (1)<br>\n",
    "- Creates smooth, professional beginning<br>\n",
    "- No sudden jarring start<br>\n",
    "\n",
    "🎬 Fade OUT:\n",
    "- Audio gradually decreases from full volume (1) to silence (0)<br>\n",
    "- Creates smooth, professional ending<br>\n",
    "- No abrupt cutoff<br>\n",
    "\n",
    "HOW IT WORKS:\n",
    "- np.linspace(0, 1, samples) creates gradual increase: [0, 0.25, 0.5, 0.75, 1]<br>\n",
    "- Multiply audio by this curve to gradually change volume<br>\n",
    "- Linear fade (straight line) - simple and effective<br>\n",
    "\n",
    "WHEN TO USE:\n",
    "- Fade in: Song intros, podcast starts, video begins<br>\n",
    "- Fade out: Song outros, smooth endings<br>\n",
    "- Both: Professional audio production<br>\n",
    "- Short fades (0.5s): Avoid clicks/pops when cutting audio<br>\n",
    "\n",
    "Try changing fade_duration:\n",
    "- Longer (3-5 seconds): Slow, dramatic fades<br>\n",
    "- Shorter (0.2-0.5 seconds): Quick, subtle transitions<br>\n"
   ]
  },
  {
   "cell_type": "code",
   "execution_count": null,
   "id": "0a3c88c8",
   "metadata": {},
   "outputs": [],
   "source": []
  }
 ],
 "metadata": {
  "language_info": {
   "name": "python"
  }
 },
 "nbformat": 4,
 "nbformat_minor": 5
}
