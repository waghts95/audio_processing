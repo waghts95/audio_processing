{
 "cells": [
  {
   "cell_type": "markdown",
   "id": "b9af1d0f",
   "metadata": {},
   "source": [
    "# Apply Filters! 🎛️"
   ]
  },
  {
   "cell_type": "markdown",
   "id": "2eb46605",
   "metadata": {},
   "source": [
    "This code creates 3 filtered versions:\n",
    "\n",
    "🔊 Bass Only (Low-pass filter)\n",
    "\n",
    "Keeps deep frequencies below 1000 Hz<br>\n",
    "Sounds muffled, like through a wall<br>\n",
    "Great for emphasizing bass in music<br>\n",
    "\n",
    "\n",
    "🔉 Treble Only (High-pass filter)\n",
    "\n",
    "Keeps high frequencies above 1000 Hz<br>\n",
    "Sounds thin and tinny, like old telephone<br>\n",
    "Removes rumble and bass<br>\n",
    "\n",
    "\n",
    "🎵 Middle Frequencies (Band-pass filter)\n",
    "\n",
    "Keeps 300-3000 Hz (human voice range)<br>\n",
    "Perfect for speech/podcast clarity<br>\n",
    "\n",
    "\n",
    "\n",
    "Play all 3 files to hear the dramatic differences! 🎧<br>\n",
    "Fun experiment: Try changing the cutoff_freq values:\n",
    "\n",
    "Lower (500 Hz) = more bass, more muffled<br>\n",
    "Higher (2000 Hz) = less bass, clearer"
   ]
  },
  {
   "cell_type": "code",
   "execution_count": 9,
   "id": "3517083f",
   "metadata": {},
   "outputs": [],
   "source": [
    "import librosa         # for audio processing\n",
    "import soundfile as sf # for reading and writing audio files\n",
    "import numpy as np\n",
    "from scipy import signal\n",
    "import os"
   ]
  },
  {
   "cell_type": "code",
   "execution_count": null,
   "id": "b84340b0",
   "metadata": {},
   "outputs": [
    {
     "name": "stdout",
     "output_type": "stream",
     "text": [
      "Audio loaded successfully!\n",
      "Sample Rate: 22050 Hz\n",
      "Duration: 11.19 seconds\n"
     ]
    }
   ],
   "source": [
    "\n",
    "# Read an audio file\n",
    "audio_file = \"data/476707__sergequadrado__fairy-logo.wav\"  # Change this to your file name\n",
    "\n",
    "# Load the audio\n",
    "# data from librosa.load() is typically normalized by default to the range [-1, 1]\n",
    "audio_data, sample_rate = librosa.load(audio_file)\n",
    "\n",
    "print(\"Audio loaded successfully!\")\n",
    "print(f\"Sample Rate: {sample_rate} Hz\")  # Sample rate is the number of audio samples captured per second, measured in Hertz (Hz).\n",
    "print(f\"Duration: {len(audio_data) / sample_rate:.2f} seconds\")"
   ]
  },
  {
   "cell_type": "markdown",
   "id": "a4ecb44f",
   "metadata": {},
   "source": [
    "FILTER 1: Low-Pass Filter (Keep Bass, Remove Treble)"
   ]
  },
  {
   "cell_type": "code",
   "execution_count": 16,
   "id": "75d3838c",
   "metadata": {},
   "outputs": [
    {
     "name": "stdout",
     "output_type": "stream",
     "text": [
      "\n",
      "✓ Low-pass filter applied (keeps bass below 1000 Hz)\n",
      "  Result: Deep, muffled sound (like listening through a wall)\n"
     ]
    }
   ],
   "source": [
    "cutoff_freq = 1000  # Keep frequencies below 1000 Hz\n",
    "\n",
    "# Create filter\n",
    "nyquist = sample_rate / 2  # Maximum possible frequency\n",
    "normal_cutoff = cutoff_freq / nyquist\n",
    "# Design Butterworth low-pass filter\n",
    "b, a = signal.butter(4, normal_cutoff, btype='low')\n",
    "\n",
    "# Apply filter\n",
    "bass_only = signal.filtfilt(b, a, audio_data)\n",
    "\n",
    "print(f\"\\n✓ Low-pass filter applied (keeps bass below {cutoff_freq} Hz)\")\n",
    "print(\"  Result: Deep, muffled sound (like listening through a wall)\")\n"
   ]
  },
  {
   "cell_type": "markdown",
   "id": "183cedf9",
   "metadata": {},
   "source": [
    "A Butterworth filter is a digital signal processing filter that provides a maximally flat frequency response in the passband while attenuating frequencies in the stopband, commonly used in audio applications to selectively allow or block specific frequency ranges.\n",
    "\n"
   ]
  },
  {
   "cell_type": "code",
   "execution_count": 17,
   "id": "6c48348e",
   "metadata": {},
   "outputs": [
    {
     "data": {
      "text/plain": [
       "array([0.00029137, 0.00116546, 0.00174819, 0.00116546, 0.00029137])"
      ]
     },
     "execution_count": 17,
     "metadata": {},
     "output_type": "execute_result"
    }
   ],
   "source": [
    "b"
   ]
  },
  {
   "cell_type": "code",
   "execution_count": 18,
   "id": "e73b8fab",
   "metadata": {},
   "outputs": [
    {
     "data": {
      "text/plain": [
       "array([ 1.        , -3.25656931,  4.03376839, -2.24604368,  0.47350645])"
      ]
     },
     "execution_count": 18,
     "metadata": {},
     "output_type": "execute_result"
    }
   ],
   "source": [
    "a"
   ]
  },
  {
   "cell_type": "markdown",
   "id": "dcf1b621",
   "metadata": {},
   "source": [
    "FILTER 2: High-Pass Filter (Keep Treble, Remove Bass)"
   ]
  },
  {
   "cell_type": "code",
   "execution_count": 6,
   "id": "2657976c",
   "metadata": {},
   "outputs": [
    {
     "name": "stdout",
     "output_type": "stream",
     "text": [
      "\n",
      "✓ High-pass filter applied (keeps treble above 1000 Hz)\n",
      "  Result: Thin, tinny sound (like old telephone)\n"
     ]
    }
   ],
   "source": [
    "cutoff_freq = 1000  # Keep frequencies above 1000 Hz\n",
    "\n",
    "# Create filter\n",
    "normal_cutoff = cutoff_freq / nyquist\n",
    "b, a = signal.butter(4, normal_cutoff, btype='high')\n",
    "\n",
    "# Apply filter\n",
    "treble_only = signal.filtfilt(b, a, audio_data)\n",
    "\n",
    "print(f\"\\n✓ High-pass filter applied (keeps treble above {cutoff_freq} Hz)\")\n",
    "print(\"  Result: Thin, tinny sound (like old telephone)\")\n"
   ]
  },
  {
   "cell_type": "markdown",
   "id": "8dd10d56",
   "metadata": {},
   "source": [
    "FILTER 3: Band-Pass Filter (Keep Middle Frequencies)"
   ]
  },
  {
   "cell_type": "code",
   "execution_count": 7,
   "id": "9f20a9cf",
   "metadata": {},
   "outputs": [
    {
     "name": "stdout",
     "output_type": "stream",
     "text": [
      "\n",
      "✓ Band-pass filter applied (keeps 300-3000 Hz)\n",
      "  Result: Human voice range (good for speech)\n"
     ]
    }
   ],
   "source": [
    "low_freq = 300   # Remove below 300 Hz\n",
    "high_freq = 3000 # Remove above 3000 Hz\n",
    "\n",
    "# Create filter\n",
    "low = low_freq / nyquist\n",
    "high = high_freq / nyquist\n",
    "b, a = signal.butter(4, [low, high], btype='band')\n",
    "\n",
    "# Apply filter\n",
    "middle_freq = signal.filtfilt(b, a, audio_data)\n",
    "\n",
    "print(f\"\\n✓ Band-pass filter applied (keeps {low_freq}-{high_freq} Hz)\")\n",
    "print(\"  Result: Human voice range (good for speech)\")"
   ]
  },
  {
   "cell_type": "code",
   "execution_count": 12,
   "id": "a1215da9",
   "metadata": {},
   "outputs": [
    {
     "name": "stdout",
     "output_type": "stream",
     "text": [
      "\n",
      "📁 Saved: output/bass_only.wav (low-pass filtered)\n",
      "📁 Saved: output/treble_only.wav (high-pass filtered)\n",
      "📁 Saved: output/middle_freq.wav (band-pass filtered)\n"
     ]
    }
   ],
   "source": [
    "output_dir = \"output\"\n",
    "if not os.path.exists(output_dir):\n",
    "    os.makedirs(output_dir)\n",
    "    print(f\"\\n📁 Created directory: {output_dir}/\")\n",
    "\n",
    "sf.write(os.path.join(output_dir, 'bass_only.wav'), bass_only, sample_rate)\n",
    "print(f\"\\n📁 Saved: {os.path.join(output_dir, 'bass_only.wav')} (low-pass filtered)\")\n",
    "\n",
    "sf.write(os.path.join(output_dir, 'treble_only.wav'), treble_only, sample_rate)\n",
    "print(f\"📁 Saved: {os.path.join(output_dir, 'treble_only.wav')} (high-pass filtered)\")\n",
    "\n",
    "sf.write(os.path.join(output_dir, 'middle_freq.wav'), middle_freq, sample_rate)\n",
    "print(f\"📁 Saved: {os.path.join(output_dir, 'middle_freq.wav')} (band-pass filtered)\")"
   ]
  }
 ],
 "metadata": {
  "kernelspec": {
   "display_name": "audio-processing",
   "language": "python",
   "name": "python3"
  },
  "language_info": {
   "codemirror_mode": {
    "name": "ipython",
    "version": 3
   },
   "file_extension": ".py",
   "mimetype": "text/x-python",
   "name": "python",
   "nbconvert_exporter": "python",
   "pygments_lexer": "ipython3",
   "version": "3.12.3"
  }
 },
 "nbformat": 4,
 "nbformat_minor": 5
}
