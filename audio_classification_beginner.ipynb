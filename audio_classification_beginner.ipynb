{
 "cells": [
  {
   "cell_type": "markdown",
   "id": "a163d378",
   "metadata": {},
   "source": [
    "# Audio Classification - Beginner Project"
   ]
  },
  {
   "cell_type": "markdown",
   "id": "be773039",
   "metadata": {},
   "source": [
    "This is beginner friendly notebook for audio classification on mini dataset."
   ]
  },
  {
   "cell_type": "markdown",
   "id": "ba5955c0",
   "metadata": {},
   "source": [
    "We’ll use subset of dataset i.e 4-5 classes only."
   ]
  },
  {
   "cell_type": "markdown",
   "id": "46bdb246",
   "metadata": {},
   "source": [
    "| Class       | Example sounds                 |\n",
    "| ----------- | ------------------------------ |\n",
    "| 🐶 Dog bark | dog_bark_1.wav, dog_bark_2.wav |\n",
    "| 🚗 Car horn | car_horn_1.wav, car_horn_2.wav |\n",
    "| 🌧 Rain     | rain_1.wav, rain_2.wav         |\n",
    "| 🔔 Bell     | bell_1.wav, bell_2.wav         |\n"
   ]
  },
  {
   "cell_type": "code",
   "execution_count": null,
   "id": "5fc9bf9e",
   "metadata": {},
   "outputs": [],
   "source": [
    "# import necessary libraries\n",
    "\n",
    "import os, zipfile, requests\n",
    "import numpy as np\n",
    "import librosa\n",
    "import librosa.display\n",
    "import matplotlib.pyplot as plt\n",
    "from tqdm import tqdm\n",
    "from sklearn.model_selection import train_test_split\n",
    "from sklearn.preprocessing import LabelEncoder, StandardScaler\n",
    "from sklearn.ensemble import RandomForestClassifier\n",
    "from sklearn.metrics import accuracy_score, classification_report"
   ]
  },
  {
   "cell_type": "markdown",
   "id": "3fe112ba",
   "metadata": {},
   "source": [
    "Download small sample dataset"
   ]
  },
  {
   "cell_type": "code",
   "execution_count": null,
   "id": "d74f280f",
   "metadata": {},
   "outputs": [],
   "source": [
    "url = \"https://github.com/karoldvl/ESC-50/archive/refs/heads/master.zip\"\n",
    "if not os.path.exists(\"ESC-50-master\"):\n",
    "    print(\"Downloading sample dataset (~100MB)...\")\n",
    "    r = requests.get(url, stream=True)\n",
    "    with open(\"esc50.zip\", \"wb\") as f:\n",
    "        for chunk in tqdm(r.iter_content(chunk_size=1024*1024)):\n",
    "            if chunk:\n",
    "                f.write(chunk)\n",
    "    with zipfile.ZipFile(\"esc50.zip\", \"r\") as zip_ref:\n",
    "        zip_ref.extractall(\".\")\n",
    "    print(\"✅ Dataset extracted!\")\n",
    "\n",
    "\n",
    "# -----------------------------\n",
    "# 2️⃣ Use only 4 light classes from ESC-50\n",
    "# -----------------------------\n",
    "import pandas as pd\n",
    "meta = pd.read_csv(\"ESC-50-master/meta/esc50.csv\")\n",
    "classes = ['dog', 'car_horn', 'rain', 'church_bells']\n",
    "meta_small = meta[meta['category'].isin(classes)].sample(40, random_state=42)"
   ]
  },
  {
   "cell_type": "markdown",
   "id": "b667bd6d",
   "metadata": {},
   "source": [
    "Feature extraction"
   ]
  },
  {
   "cell_type": "code",
   "execution_count": null,
   "id": "4670a1db",
   "metadata": {},
   "outputs": [],
   "source": [
    "def extract_features(file):\n",
    "    y, sr = librosa.load(file, duration=3, offset=0.5)\n",
    "    mfcc = np.mean(librosa.feature.mfcc(y=y, sr=sr, n_mfcc=13).T, axis=0)\n",
    "    zcr = np.mean(librosa.feature.zero_crossing_rate(y))\n",
    "    centroid = np.mean(librosa.feature.spectral_centroid(y=y, sr=sr))\n",
    "    rolloff = np.mean(librosa.feature.spectral_rolloff(y=y, sr=sr))\n",
    "    return np.hstack([mfcc, zcr, centroid, rolloff])\n",
    "\n",
    "X, y = [], []\n",
    "for _, row in tqdm(meta_small.iterrows(), total=len(meta_small)):\n",
    "    path = os.path.join(\"ESC-50-master/audio\", row['filename'])\n",
    "    X.append(extract_features(path))\n",
    "    y.append(row['category'])\n",
    "\n",
    "X = np.array(X)\n",
    "y = np.array(y)\n",
    "print(\"✅ Features extracted:\", X.shape)"
   ]
  },
  {
   "cell_type": "markdown",
   "id": "6a7199b1",
   "metadata": {},
   "source": [
    "Data Preprocessing"
   ]
  },
  {
   "cell_type": "code",
   "execution_count": null,
   "id": "21c5411f",
   "metadata": {},
   "outputs": [],
   "source": [
    "scaler = StandardScaler()\n",
    "X_scaled = scaler.fit_transform(X)\n",
    "le = LabelEncoder()\n",
    "y_encoded = le.fit_transform(y)"
   ]
  },
  {
   "cell_type": "markdown",
   "id": "f330e94c",
   "metadata": {},
   "source": [
    "train/test split"
   ]
  },
  {
   "cell_type": "code",
   "execution_count": null,
   "id": "c1c632f2",
   "metadata": {},
   "outputs": [],
   "source": [
    "X_train, X_test, y_train, y_test = train_test_split(X_scaled, y_encoded, test_size=0.2, random_state=42)"
   ]
  },
  {
   "cell_type": "markdown",
   "id": "b3532a1d",
   "metadata": {},
   "source": [
    "Training a Model : RandomForest"
   ]
  },
  {
   "cell_type": "code",
   "execution_count": null,
   "id": "d2f04bc3",
   "metadata": {},
   "outputs": [],
   "source": [
    "model = RandomForestClassifier(n_estimators=150, random_state=42)\n",
    "model.fit(X_train, y_train)\n",
    "\n",
    "y_pred = model.predict(X_test)\n",
    "print(\"\\n✅ Accuracy:\", accuracy_score(y_test, y_pred))\n",
    "print(\"\\nClassification Report:\\n\", classification_report(y_test, y_pred, target_names=le.classes_))"
   ]
  },
  {
   "cell_type": "markdown",
   "id": "635fdf0e",
   "metadata": {},
   "source": [
    "Model Inference"
   ]
  },
  {
   "cell_type": "code",
   "execution_count": null,
   "id": "8255ff03",
   "metadata": {},
   "outputs": [],
   "source": [
    "def predict_sound(file_path):\n",
    "    feat = extract_features(file_path)\n",
    "    feat_scaled = scaler.transform([feat])\n",
    "    pred = model.predict(feat_scaled)\n",
    "    return le.inverse_transform(pred)[0]\n",
    "\n",
    "test_file = \"ESC-50-master/audio/1-30344-A-14.wav\"  # Example sound file\n",
    "print(\"\\n🎧 Predicted Class:\", predict_sound(test_file))\n",
    "\n"
   ]
  }
 ],
 "metadata": {
  "kernelspec": {
   "display_name": "audio-processing",
   "language": "python",
   "name": "python3"
  },
  "language_info": {
   "codemirror_mode": {
    "name": "ipython",
    "version": 3
   },
   "file_extension": ".py",
   "mimetype": "text/x-python",
   "name": "python",
   "nbconvert_exporter": "python",
   "pygments_lexer": "ipython3",
   "version": "3.12.3"
  }
 },
 "nbformat": 4,
 "nbformat_minor": 5
}
