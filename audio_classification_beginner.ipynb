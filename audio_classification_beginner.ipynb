{
 "cells": [
  {
   "cell_type": "markdown",
   "id": "a163d378",
   "metadata": {},
   "source": [
    "# Audio Classification - Beginner Project"
   ]
  },
  {
   "cell_type": "markdown",
   "id": "be773039",
   "metadata": {},
   "source": [
    "This is beginner friendly notebook for audio classification on mini dataset."
   ]
  },
  {
   "cell_type": "markdown",
   "id": "ba5955c0",
   "metadata": {},
   "source": [
    "We’ll use subset of dataset i.e 4-5 classes only."
   ]
  },
  {
   "cell_type": "markdown",
   "id": "46bdb246",
   "metadata": {},
   "source": [
    "| Class       | Example sounds                 |\n",
    "| ----------- | ------------------------------ |\n",
    "| 🐶 Dog bark | dog_bark_1.wav, dog_bark_2.wav |\n",
    "| 🚗 Car horn | car_horn_1.wav, car_horn_2.wav |\n",
    "| 🌧 Rain     | rain_1.wav, rain_2.wav         |\n",
    "| 🔔 Bell     | bell_1.wav, bell_2.wav         |\n"
   ]
  },
  {
   "cell_type": "code",
   "execution_count": 3,
   "id": "5fc9bf9e",
   "metadata": {},
   "outputs": [],
   "source": [
    "# import necessary libraries\n",
    "\n",
    "import os, zipfile, requests\n",
    "import numpy as np\n",
    "import librosa\n",
    "import librosa.display\n",
    "import matplotlib.pyplot as plt\n",
    "from tqdm import tqdm\n",
    "from sklearn.model_selection import train_test_split\n",
    "from sklearn.preprocessing import LabelEncoder, StandardScaler\n",
    "from sklearn.ensemble import RandomForestClassifier\n",
    "from sklearn.metrics import accuracy_score, classification_report"
   ]
  },
  {
   "cell_type": "markdown",
   "id": "3fe112ba",
   "metadata": {},
   "source": [
    "Download small sample dataset"
   ]
  },
  {
   "cell_type": "code",
   "execution_count": 6,
   "id": "d74f280f",
   "metadata": {},
   "outputs": [],
   "source": [
    "# Create data directory if it doesn't exist\n",
    "data_dir = \"../datasets/audio/esc50_light_classes\"\n",
    "if not os.path.exists(data_dir):\n",
    "    os.makedirs(data_dir)\n",
    "    print(f\"📁 Created directory: {data_dir}\")\n",
    "\n",
    "url = \"https://github.com/karoldvl/ESC-50/archive/refs/heads/master.zip\"\n",
    "dataset_path = os.path.join(data_dir, \"ESC-50-master\")\n",
    "zip_path = os.path.join(data_dir, \"esc50.zip\")\n",
    "\n",
    "if not os.path.exists(dataset_path):\n",
    "    print(\"Downloading sample dataset (~100MB)...\")\n",
    "    r = requests.get(url, stream=True)\n",
    "    with open(zip_path, \"wb\") as f:\n",
    "        for chunk in tqdm(r.iter_content(chunk_size=1024*1024)):\n",
    "            if chunk:\n",
    "                f.write(chunk)\n",
    "    \n",
    "    with zipfile.ZipFile(zip_path, \"r\") as zip_ref:\n",
    "        zip_ref.extractall(data_dir)\n",
    "    \n",
    "    # Clean up zip file after extraction\n",
    "    os.remove(zip_path)\n",
    "    print(\"✅ Dataset extracted to:\", dataset_path)\n",
    "\n",
    "\n",
    "# -----------------------------\n",
    "# 2️⃣ Use only 4 light classes from ESC-50\n",
    "# -----------------------------\n",
    "import pandas as pd\n",
    "meta = pd.read_csv(\"../datasets/audio/esc50_light_classes/ESC-50-master/meta/esc50.csv\")\n",
    "classes = ['dog', 'car_horn', 'rain', 'church_bells']\n",
    "meta_small = meta[meta['category'].isin(classes)].sample(40, random_state=42)"
   ]
  },
  {
   "cell_type": "code",
   "execution_count": 27,
   "id": "436fc291",
   "metadata": {},
   "outputs": [
    {
     "data": {
      "text/html": [
       "<div>\n",
       "<style scoped>\n",
       "    .dataframe tbody tr th:only-of-type {\n",
       "        vertical-align: middle;\n",
       "    }\n",
       "\n",
       "    .dataframe tbody tr th {\n",
       "        vertical-align: top;\n",
       "    }\n",
       "\n",
       "    .dataframe thead th {\n",
       "        text-align: right;\n",
       "    }\n",
       "</style>\n",
       "<table border=\"1\" class=\"dataframe\">\n",
       "  <thead>\n",
       "    <tr style=\"text-align: right;\">\n",
       "      <th></th>\n",
       "      <th>fold</th>\n",
       "      <th>target</th>\n",
       "      <th>src_file</th>\n",
       "    </tr>\n",
       "  </thead>\n",
       "  <tbody>\n",
       "    <tr>\n",
       "      <th>count</th>\n",
       "      <td>40.000000</td>\n",
       "      <td>40.000000</td>\n",
       "      <td>40.000000</td>\n",
       "    </tr>\n",
       "    <tr>\n",
       "      <th>mean</th>\n",
       "      <td>2.875000</td>\n",
       "      <td>26.375000</td>\n",
       "      <td>124880.400000</td>\n",
       "    </tr>\n",
       "    <tr>\n",
       "      <th>std</th>\n",
       "      <td>1.488201</td>\n",
       "      <td>20.154134</td>\n",
       "      <td>62024.294746</td>\n",
       "    </tr>\n",
       "    <tr>\n",
       "      <th>min</th>\n",
       "      <td>1.000000</td>\n",
       "      <td>0.000000</td>\n",
       "      <td>13571.000000</td>\n",
       "    </tr>\n",
       "    <tr>\n",
       "      <th>25%</th>\n",
       "      <td>1.000000</td>\n",
       "      <td>10.000000</td>\n",
       "      <td>73012.750000</td>\n",
       "    </tr>\n",
       "    <tr>\n",
       "      <th>50%</th>\n",
       "      <td>3.000000</td>\n",
       "      <td>43.000000</td>\n",
       "      <td>139571.500000</td>\n",
       "    </tr>\n",
       "    <tr>\n",
       "      <th>75%</th>\n",
       "      <td>4.000000</td>\n",
       "      <td>46.000000</td>\n",
       "      <td>177761.000000</td>\n",
       "    </tr>\n",
       "    <tr>\n",
       "      <th>max</th>\n",
       "      <td>5.000000</td>\n",
       "      <td>46.000000</td>\n",
       "      <td>254507.000000</td>\n",
       "    </tr>\n",
       "  </tbody>\n",
       "</table>\n",
       "</div>"
      ],
      "text/plain": [
       "            fold     target       src_file\n",
       "count  40.000000  40.000000      40.000000\n",
       "mean    2.875000  26.375000  124880.400000\n",
       "std     1.488201  20.154134   62024.294746\n",
       "min     1.000000   0.000000   13571.000000\n",
       "25%     1.000000  10.000000   73012.750000\n",
       "50%     3.000000  43.000000  139571.500000\n",
       "75%     4.000000  46.000000  177761.000000\n",
       "max     5.000000  46.000000  254507.000000"
      ]
     },
     "execution_count": 27,
     "metadata": {},
     "output_type": "execute_result"
    }
   ],
   "source": [
    "# get unique classes from below dataframe\n",
    "# i.e target and category columns\n",
    "\n",
    "meta_small.describe()"
   ]
  },
  {
   "cell_type": "markdown",
   "id": "b667bd6d",
   "metadata": {},
   "source": [
    "Feature extraction"
   ]
  },
  {
   "cell_type": "code",
   "execution_count": 49,
   "id": "4670a1db",
   "metadata": {},
   "outputs": [
    {
     "name": "stderr",
     "output_type": "stream",
     "text": [
      "100%|██████████| 40/40 [00:00<00:00, 89.45it/s]"
     ]
    },
    {
     "name": "stdout",
     "output_type": "stream",
     "text": [
      "✅ Features extracted: (40, 16)\n"
     ]
    },
    {
     "name": "stderr",
     "output_type": "stream",
     "text": [
      "\n"
     ]
    }
   ],
   "source": [
    "def extract_features(file):\n",
    "    y, sr = librosa.load(file, duration=3, offset=0.5)\n",
    "    mfcc = np.mean(librosa.feature.mfcc(y=y, sr=sr, n_mfcc=13).T, axis=0)\n",
    "    zcr = np.mean(librosa.feature.zero_crossing_rate(y))\n",
    "    centroid = np.mean(librosa.feature.spectral_centroid(y=y, sr=sr))\n",
    "    rolloff = np.mean(librosa.feature.spectral_rolloff(y=y, sr=sr))\n",
    "    return np.hstack([mfcc, zcr, centroid, rolloff])\n",
    "\n",
    "X, y = [], []\n",
    "for _, row in tqdm(meta_small.iterrows(), total=len(meta_small)):\n",
    "    path = os.path.join(\"../datasets/audio/esc50_light_classes/ESC-50-master/audio\", row['filename'])\n",
    "    X.append(extract_features(path))\n",
    "    y.append(row['category'])\n",
    "\n",
    "X = np.array(X)\n",
    "y = np.array(y)\n",
    "print(\"✅ Features extracted:\", X.shape)"
   ]
  },
  {
   "cell_type": "markdown",
   "id": "6a7199b1",
   "metadata": {},
   "source": [
    "Data Preprocessing"
   ]
  },
  {
   "cell_type": "code",
   "execution_count": 51,
   "id": "21c5411f",
   "metadata": {},
   "outputs": [],
   "source": [
    "scaler = StandardScaler()\n",
    "X_scaled = scaler.fit_transform(X)\n",
    "le = LabelEncoder()\n",
    "y_encoded = le.fit_transform(y)"
   ]
  },
  {
   "cell_type": "markdown",
   "id": "f330e94c",
   "metadata": {},
   "source": [
    "train/test split"
   ]
  },
  {
   "cell_type": "code",
   "execution_count": 10,
   "id": "c1c632f2",
   "metadata": {},
   "outputs": [],
   "source": [
    "X_train, X_test, y_train, y_test = train_test_split(X_scaled, y_encoded, test_size=0.2, random_state=42)"
   ]
  },
  {
   "cell_type": "markdown",
   "id": "b3532a1d",
   "metadata": {},
   "source": [
    "Training a Model : RandomForest"
   ]
  },
  {
   "cell_type": "code",
   "execution_count": 11,
   "id": "d2f04bc3",
   "metadata": {},
   "outputs": [
    {
     "name": "stdout",
     "output_type": "stream",
     "text": [
      "\n",
      "✅ Accuracy: 0.75\n",
      "\n",
      "Classification Report:\n",
      "               precision    recall  f1-score   support\n",
      "\n",
      "    car_horn       1.00      1.00      1.00         1\n",
      "church_bells       0.60      1.00      0.75         3\n",
      "         dog       0.00      0.00      0.00         2\n",
      "        rain       1.00      1.00      1.00         2\n",
      "\n",
      "    accuracy                           0.75         8\n",
      "   macro avg       0.65      0.75      0.69         8\n",
      "weighted avg       0.60      0.75      0.66         8\n",
      "\n"
     ]
    },
    {
     "name": "stderr",
     "output_type": "stream",
     "text": [
      "/home/tushar/work/audio_processing/.venv/lib/python3.12/site-packages/sklearn/metrics/_classification.py:1731: UndefinedMetricWarning: Precision is ill-defined and being set to 0.0 in labels with no predicted samples. Use `zero_division` parameter to control this behavior.\n",
      "  _warn_prf(average, modifier, f\"{metric.capitalize()} is\", result.shape[0])\n",
      "/home/tushar/work/audio_processing/.venv/lib/python3.12/site-packages/sklearn/metrics/_classification.py:1731: UndefinedMetricWarning: Precision is ill-defined and being set to 0.0 in labels with no predicted samples. Use `zero_division` parameter to control this behavior.\n",
      "  _warn_prf(average, modifier, f\"{metric.capitalize()} is\", result.shape[0])\n",
      "/home/tushar/work/audio_processing/.venv/lib/python3.12/site-packages/sklearn/metrics/_classification.py:1731: UndefinedMetricWarning: Precision is ill-defined and being set to 0.0 in labels with no predicted samples. Use `zero_division` parameter to control this behavior.\n",
      "  _warn_prf(average, modifier, f\"{metric.capitalize()} is\", result.shape[0])\n"
     ]
    }
   ],
   "source": [
    "model = RandomForestClassifier(n_estimators=150, random_state=42)\n",
    "model.fit(X_train, y_train)\n",
    "\n",
    "y_pred = model.predict(X_test)\n",
    "print(\"\\n✅ Accuracy:\", accuracy_score(y_test, y_pred))\n",
    "print(\"\\nClassification Report:\\n\", classification_report(y_test, y_pred, target_names=le.classes_))"
   ]
  },
  {
   "cell_type": "markdown",
   "id": "635fdf0e",
   "metadata": {},
   "source": [
    "Model Inference"
   ]
  },
  {
   "cell_type": "code",
   "execution_count": null,
   "id": "8255ff03",
   "metadata": {},
   "outputs": [],
   "source": [
    "def predict_sound(file_path):\n",
    "    feat = extract_features(file_path)\n",
    "    feat_scaled = scaler.transform([feat])\n",
    "    pred = model.predict(feat_scaled)\n",
    "    return le.inverse_transform(pred)[0]\n",
    "\n",
    "# new input file for prediction\n",
    "test_file = \"../datasets/audio/esc50_light_classes/ESC-50-master/audio/1-30344-A-14.wav\"  # Example sound file\n",
    "print(\"\\n🎧 Predicted Class:\", predict_sound(test_file))\n",
    "\n"
   ]
  }
 ],
 "metadata": {
  "kernelspec": {
   "display_name": "audio-processing",
   "language": "python",
   "name": "python3"
  },
  "language_info": {
   "codemirror_mode": {
    "name": "ipython",
    "version": 3
   },
   "file_extension": ".py",
   "mimetype": "text/x-python",
   "name": "python",
   "nbconvert_exporter": "python",
   "pygments_lexer": "ipython3",
   "version": "3.12.3"
  }
 },
 "nbformat": 4,
 "nbformat_minor": 5
}
